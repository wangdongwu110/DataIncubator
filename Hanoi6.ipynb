{
 "cells": [
  {
   "cell_type": "code",
   "execution_count": 1,
   "metadata": {
    "collapsed": true
   },
   "outputs": [],
   "source": [
    "import numpy as np\n",
    "import copy\n",
    "from scipy.sparse import csr_matrix"
   ]
  },
  {
   "cell_type": "code",
   "execution_count": 2,
   "metadata": {
    "collapsed": true
   },
   "outputs": [],
   "source": [
    "def isvalidmove(s, istart, iend):\n",
    "    if len(s[istart]) == 0: return False\n",
    "    if len(s[iend]) == 0: return True\n",
    "    if s[istart][-1]<s[iend][-1]: \n",
    "        return True\n",
    "    else:\n",
    "        return False"
   ]
  },
  {
   "cell_type": "code",
   "execution_count": 3,
   "metadata": {
    "collapsed": true
   },
   "outputs": [],
   "source": [
    "def generateHanoi6status(n):\n",
    "    res = {}\n",
    "    valid_move = {i: [] for i in range(n)}\n",
    "    res[0] = [[6,5,4,3,2,1],[],[],[],[],[]]\n",
    "    i = 1\n",
    "    layer = [0]\n",
    "    while i<n and len(layer) != 0:\n",
    "        next_layer = []\n",
    "        for curr_idx in layer:\n",
    "            curr_status = res[curr_idx]\n",
    "            for start, end in [(0,1),(1,0),(1,2),(2,1),(2,3),(3,2),(3,4),(4,3),(4,5),(5,4)]:\n",
    "                if isvalidmove(curr_status, start, end):\n",
    "                    temp = copy.deepcopy(curr_status)\n",
    "                    temp[end].append(temp[start].pop()) \n",
    "                    if temp not in res.values():\n",
    "                        res[i] = temp\n",
    "                        next_layer.append(i)\n",
    "                        valid_move[curr_idx].append(i)\n",
    "                        valid_move[i].append(curr_idx)\n",
    "                        i += 1\n",
    "                        if i % 1000 == 0: print(i)\n",
    "        layer = next_layer\n",
    "    return [res,valid_move]"
   ]
  },
  {
   "cell_type": "code",
   "execution_count": 4,
   "metadata": {
    "collapsed": true
   },
   "outputs": [],
   "source": [
    "def computecenterHanoi6(s):\n",
    "    weightedsum = 0.0\n",
    "    for i in range(6):\n",
    "        weightedsum += sum(s[i]) * i\n",
    "    return weightedsum / 21.0"
   ]
  },
  {
   "cell_type": "code",
   "execution_count": 5,
   "metadata": {
    "collapsed": true
   },
   "outputs": [],
   "source": [
    "def computeprobHanoi6(n,T,valid_move):\n",
    "    i, j, v = [], [], []\n",
    "    for ii in range(n):\n",
    "        if ii % 2000 == 0: print(ii)\n",
    "        for jj in valid_move[ii]:\n",
    "            i.append(jj)\n",
    "            j.append(ii)\n",
    "            v.append(1.0/float(len(valid_move[ii])))\n",
    "    i, j, v = np.array(i), np.array(j), np.array(v)\n",
    "    A = csr_matrix((v,(i,j)),shape=(n,n))\n",
    "    #res = np.concatenate((np.array([1.0]),[0]*(n-1)), axis=0)\n",
    "    res = csr_matrix(([1],([0],[0])),shape=(n,1))\n",
    "    print('multiply matrices')\n",
    "    for k in range(T):\n",
    "        if k % 20 == 0: print(k)\n",
    "        res = A * res\n",
    "    return res"
   ]
  },
  {
   "cell_type": "code",
   "execution_count": 6,
   "metadata": {
    "collapsed": false
   },
   "outputs": [
    {
     "name": "stdout",
     "output_type": "stream",
     "text": [
      "generate status...\n",
      "1000\n",
      "2000\n",
      "3000\n",
      "4000\n",
      "5000\n",
      "6000\n",
      "7000\n",
      "8000\n",
      "9000\n",
      "10000\n",
      "11000\n",
      "12000\n",
      "13000\n",
      "14000\n",
      "15000\n",
      "16000\n",
      "17000\n",
      "18000\n",
      "19000\n",
      "20000\n",
      "21000\n",
      "22000\n",
      "23000\n",
      "24000\n",
      "25000\n",
      "26000\n",
      "27000\n",
      "28000\n",
      "29000\n",
      "30000\n",
      "31000\n",
      "32000\n",
      "33000\n",
      "34000\n",
      "35000\n",
      "36000\n",
      "37000\n",
      "38000\n",
      "39000\n",
      "40000\n",
      "41000\n",
      "42000\n",
      "43000\n",
      "44000\n",
      "45000\n",
      "46000\n"
     ]
    }
   ],
   "source": [
    "# Main Hanoi6\n",
    "n = 6**6\n",
    "T = 256\n",
    "print('generate status...')\n",
    "status, valid_move = generateHanoi6status(n)"
   ]
  },
  {
   "cell_type": "code",
   "execution_count": 7,
   "metadata": {
    "collapsed": false
   },
   "outputs": [
    {
     "name": "stdout",
     "output_type": "stream",
     "text": [
      "generate centers...\n"
     ]
    }
   ],
   "source": [
    "print('generate centers...')\n",
    "center = [[computecenterHanoi6(status[i]) for i in range(n)]]"
   ]
  },
  {
   "cell_type": "code",
   "execution_count": 8,
   "metadata": {
    "collapsed": false
   },
   "outputs": [
    {
     "name": "stdout",
     "output_type": "stream",
     "text": [
      "generate p...\n",
      "0\n",
      "2000\n",
      "4000\n",
      "6000\n",
      "8000\n",
      "10000\n",
      "12000\n",
      "14000\n",
      "16000\n",
      "18000\n",
      "20000\n",
      "22000\n",
      "24000\n",
      "26000\n",
      "28000\n",
      "30000\n",
      "32000\n",
      "34000\n",
      "36000\n",
      "38000\n",
      "40000\n",
      "42000\n",
      "44000\n",
      "46000\n",
      "multiply matrices\n",
      "0\n",
      "20\n",
      "40\n",
      "60\n",
      "80\n",
      "100\n",
      "120\n",
      "140\n",
      "160\n",
      "180\n",
      "200\n",
      "220\n",
      "240\n"
     ]
    }
   ],
   "source": [
    "print('generate p...')\n",
    "p = computeprobHanoi6(n,T,valid_move).todense()"
   ]
  },
  {
   "cell_type": "code",
   "execution_count": 10,
   "metadata": {
    "collapsed": false
   },
   "outputs": [
    {
     "name": "stdout",
     "output_type": "stream",
     "text": [
      "compute mean and variance...\n",
      "0.7655142451\n",
      "0.2201701017\n"
     ]
    }
   ],
   "source": [
    "print('compute mean and variance...')\n",
    "mean = np.dot(center, p)\n",
    "variance = np.dot(np.square(center-mean), p)\n",
    "print(\"%.10f\" % mean)\n",
    "print(\"%.10f\" % variance)\n",
    "#for i in range(n):\n",
    "#    print(i, status[i], center[i])"
   ]
  }
 ],
 "metadata": {
  "kernelspec": {
   "display_name": "Python 3",
   "language": "python",
   "name": "python3"
  },
  "language_info": {
   "codemirror_mode": {
    "name": "ipython",
    "version": 3
   },
   "file_extension": ".py",
   "mimetype": "text/x-python",
   "name": "python",
   "nbconvert_exporter": "python",
   "pygments_lexer": "ipython3",
   "version": "3.6.0"
  }
 },
 "nbformat": 4,
 "nbformat_minor": 2
}
