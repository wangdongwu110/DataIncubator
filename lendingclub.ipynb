{
 "cells": [
  {
   "cell_type": "code",
   "execution_count": 1,
   "metadata": {
    "collapsed": true
   },
   "outputs": [],
   "source": [
    "#-- Import Required Python Packages\n",
    "import numpy as np\n",
    "import pandas as pd"
   ]
  },
  {
   "cell_type": "code",
   "execution_count": 2,
   "metadata": {
    "collapsed": false
   },
   "outputs": [
    {
     "name": "stderr",
     "output_type": "stream",
     "text": [
      "/home/dongwuw/anaconda3/lib/python3.6/site-packages/IPython/core/interactiveshell.py:2717: DtypeWarning: Columns (0,19) have mixed types. Specify dtype option on import or set low_memory=False.\n",
      "  interactivity=interactivity, compiler=compiler, result=result)\n",
      "/home/dongwuw/anaconda3/lib/python3.6/site-packages/IPython/core/interactiveshell.py:2717: DtypeWarning: Columns (0,19,55) have mixed types. Specify dtype option on import or set low_memory=False.\n",
      "  interactivity=interactivity, compiler=compiler, result=result)\n"
     ]
    }
   ],
   "source": [
    "# Load Dataset\n",
    "data2014 = pd.read_csv('LoanStats3c.csv',header=1)\n",
    "data2015 = pd.read_csv('LoanStats3d.csv',header=1)"
   ]
  },
  {
   "cell_type": "code",
   "execution_count": 3,
   "metadata": {
    "collapsed": false
   },
   "outputs": [
    {
     "name": "stdout",
     "output_type": "stream",
     "text": [
      "13750.0\n"
     ]
    }
   ],
   "source": [
    "# 1. What is the median loan amount? \n",
    "total_loan_amount = pd.concat([data2014['loan_amnt'], data2015['loan_amnt']])\n",
    "print(total_loan_amount.median())"
   ]
  },
  {
   "cell_type": "code",
   "execution_count": 4,
   "metadata": {
    "collapsed": false
   },
   "outputs": [
    {
     "name": "stdout",
     "output_type": "stream",
     "text": [
      "0.598464499546\n"
     ]
    }
   ],
   "source": [
    "# 2. What fraction of all loans are for the most common purpose? \n",
    "purpose = pd.concat([data2014['purpose'], data2015['purpose']])\n",
    "print(max(purpose.value_counts())/len(purpose.dropna()))"
   ]
  },
  {
   "cell_type": "code",
   "execution_count": 5,
   "metadata": {
    "collapsed": false
   },
   "outputs": [
    {
     "name": "stdout",
     "output_type": "stream",
     "text": [
      "0.639979776706\n"
     ]
    }
   ],
   "source": [
    "# 3. Calculate the average interest rate across loans for each purpose. \n",
    "# What is the ratio of minimum average rate to the maximum average rate? \n",
    "d3 = pd.concat([data2014[['int_rate','purpose']], data2015[['int_rate','purpose']]])\n",
    "# change percentage to float\n",
    "d3['int_rate'] = d3['int_rate'].replace('%','',regex=True).astype('float')/100\n",
    "avg_int_rate_per_purpose = d3.dropna().groupby('purpose')['int_rate'].mean()\n",
    "print(min(avg_int_rate_per_purpose) / max(avg_int_rate_per_purpose))"
   ]
  },
  {
   "cell_type": "code",
   "execution_count": 6,
   "metadata": {
    "collapsed": false
   },
   "outputs": [
    {
     "name": "stdout",
     "output_type": "stream",
     "text": [
      "0.0174723342368\n"
     ]
    }
   ],
   "source": [
    "# 4. What is the difference in the fraction of the loans \n",
    "# with a 36-month term between 2014 and 2015? \n",
    "d4_2014 = np.array(data2014['term'].value_counts())\n",
    "d4_2015 = np.array(data2015['term'].value_counts())\n",
    "ratio_2014 = d4_2014[0]/sum(d4_2014)\n",
    "ratio_2015 = d4_2015[0]/sum(d4_2015)\n",
    "print(ratio_2014 - ratio_2015)"
   ]
  },
  {
   "cell_type": "code",
   "execution_count": 7,
   "metadata": {
    "collapsed": false
   },
   "outputs": [
    {
     "name": "stdout",
     "output_type": "stream",
     "text": [
      "0.19657097306016852\n"
     ]
    }
   ],
   "source": [
    "# 5. We will consider all loans that are not in the 'Fully Paid', 'Current', \n",
    "# 'In Grace Period' statuses to be in default. Calculate the ratio of \n",
    "# the time spent paying the loan, defined as the difference between the \n",
    "# last payment date and the issue date, divided by the term of loan. \n",
    "# What is the standard deviation of this ratio for all the loans in default? \n",
    "d5_old = pd.concat([data2014[['loan_status','issue_d','last_pymnt_d','term']], data2015[['loan_status','issue_d','last_pymnt_d','term']]])\n",
    "# focus on default status\n",
    "d5 = d5_old[~d5_old['loan_status'].isin(['Current', 'Fully Paid', 'In Grace Period'])].dropna()\n",
    "d5['term'] = d5['term'].replace('months','',regex=True).astype('int')\n",
    "d5['monthdiffratio'] = (pd.to_datetime(d5[\"last_pymnt_d\"]) - pd.to_datetime(d5[\"issue_d\"])).astype('timedelta64[M]') / d5['term']\n",
    "print(d5['monthdiffratio'].std())"
   ]
  },
  {
   "cell_type": "code",
   "execution_count": 8,
   "metadata": {
    "collapsed": false
   },
   "outputs": [
    {
     "name": "stdout",
     "output_type": "stream",
     "text": [
      "0.54726352362\n"
     ]
    }
   ],
   "source": [
    "# 6. What is the Pearson correlation coefficient between the \n",
    "# total rate of return, as figured from the total payments and \n",
    "# the loan amount, and the interest rate? Consider only loans \n",
    "# that have reached the end of their term. \n",
    "d6_old = pd.concat([data2014[['loan_status','loan_amnt','total_pymnt','int_rate']], data2015[['loan_status','loan_amnt','total_pymnt','int_rate']]])\n",
    "d6 = d6_old[d6_old['loan_status'].isin(['Fully Paid'])].dropna()\n",
    "d6['rateofreturn'] = d6['total_pymnt'] / d6['loan_amnt']\n",
    "d6['int_rate'] = d6['int_rate'].replace('%','',regex=True).astype('float')/100\n",
    "print(d6['rateofreturn'].corr(d6['int_rate']))"
   ]
  },
  {
   "cell_type": "code",
   "execution_count": 9,
   "metadata": {
    "collapsed": false,
    "scrolled": true
   },
   "outputs": [
    {
     "name": "stdout",
     "output_type": "stream",
     "text": [
      "purpose    56\n",
      "Name: (HI, vacation), dtype: int64\n",
      "3.2727693086839853\n"
     ]
    }
   ],
   "source": [
    "# 7. Let's find a loan purpose that shows up abnormally often \n",
    "# in one state. Call A the probability of a loan going to a \n",
    "# specific purpose nationwide. Call B the probability of a \n",
    "# loan going to a specific purpose for each state. Out of all \n",
    "# (state, purpose) pairs with at least 10 loans, what is the \n",
    "# highest ratio of B / A (i.e. the most surprising)? \n",
    "d7 = pd.concat([data2014[['addr_state','purpose']], data2015[['addr_state','purpose']]]).dropna()\n",
    "prob_national = pd.DataFrame(d7['purpose'].value_counts() / len(d7['purpose']) * 100).sort_index()\n",
    "#print(d7['addr_state'].value_counts()) # state = IA or ID only has one data\n",
    "d7 = d7[~d7['addr_state'].isin(['ID','IA'])]\n",
    "g7 = d7.groupby(['addr_state','purpose']).agg({'purpose': 'count'})\n",
    "g7pct = pd.DataFrame(g7.groupby(level=0).apply(lambda x: 100 * x / float(x.sum())))\n",
    "g7pct.columns = ['pct']\n",
    "g7pct.reset_index(inplace=True)\n",
    "g7pct.columns = ['addr_state','purpose','pct']\n",
    "res_state = g7pct.pivot(index='purpose', columns='addr_state', values='pct').fillna(0.0)\n",
    "res_state['national'] = prob_national\n",
    "#print(res_state)\n",
    "ratio_state = pd.DataFrame(res_state.div(res_state['national'],axis='index'))\n",
    "#print(ratio_state)\n",
    "rs_copy = ratio_state.unstack().copy()\n",
    "rs_copy.sort_values(inplace=True)\n",
    "n = 20\n",
    "temp_res = pd.DataFrame(rs_copy[-n:])\n",
    "temp_res.reset_index(inplace=True)\n",
    "temp_res.columns = ['addr_state', 'purpose', 'ratio']\n",
    "#print(temp_res)\n",
    "for i in reversed(range(n)):\n",
    "    if int(g7.loc[temp_res['addr_state'][i],temp_res['purpose'][i]]) > 10:\n",
    "        print(g7.loc[temp_res['addr_state'][i],temp_res['purpose'][i]])\n",
    "        print(float(temp_res['ratio'][i]))\n",
    "        break\n",
    "#g7.query('addr_state==\"DE\"')\n",
    "#g7.loc['DE','educational']"
   ]
  },
  {
   "cell_type": "code",
   "execution_count": 10,
   "metadata": {
    "collapsed": false
   },
   "outputs": [
    {
     "name": "stdout",
     "output_type": "stream",
     "text": [
      "34\n",
      "0.0304874826\n"
     ]
    }
   ],
   "source": [
    "# 8. Group all loans by their sub-grade and calculate their \n",
    "# average interest rate and average default rate. Build a \n",
    "# linear model to predict the (average) default rate from \n",
    "# the (average) interest rate. Find that sub-grade with \n",
    "# the largest absolute deviation from this model. What is \n",
    "# the deviation of the actual default rate from the predicted value? \n",
    "from sklearn import linear_model\n",
    "# Combine Datasets\n",
    "d8 = pd.concat([data2014[['sub_grade','int_rate','loan_status']], data2015[['sub_grade','int_rate','loan_status']]]).dropna()\n",
    "d8['int_rate'] = d8['int_rate'].replace('%','',regex=True).astype('float')/100\n",
    "# Default = 1, others = 0\n",
    "d8['loan_status'].replace(['Fully Paid','Current','In Grace Period',\\\n",
    "                           'Late (31-120 days)','Charged Off',\\\n",
    "                           'Late (16-30 days)', 'Default'],\\\n",
    "                          [0,0,0,1,1,1,1],inplace=True)\n",
    "d8_1 = d8.groupby(['sub_grade']).agg({'int_rate': 'mean'})\n",
    "d8_2 = d8.groupby(['sub_grade']).agg({'loan_status': 'sum'})\n",
    "d8_3 = d8.groupby(['sub_grade']).agg({'loan_status': 'count'})\n",
    "d8_new = pd.concat([d8_1,d8_2/d8_3], axis=1)\n",
    "d8_new.columns = ['air','adr']#averaged interest rate and averaged default rate\n",
    "# Fit a linear regression model\n",
    "x = d8_new.air.values\n",
    "y = d8_new.adr.values\n",
    "n = x.shape[0]\n",
    "x = x.reshape(n,1)\n",
    "y = y.reshape(n,1)\n",
    "regr = linear_model.LinearRegression()\n",
    "regr.fit(x,y)\n",
    "y_hat = regr.predict(x)\n",
    "deviation = y-y_hat\n",
    "print(np.argmax(abs(deviation)))# G5 has the largest absolute deviation from this model\n",
    "print(\"%.10f\" % deviation[np.argmax(abs(deviation))])"
   ]
  }
 ],
 "metadata": {
  "kernelspec": {
   "display_name": "Python 3",
   "language": "python",
   "name": "python3"
  },
  "language_info": {
   "codemirror_mode": {
    "name": "ipython",
    "version": 3
   },
   "file_extension": ".py",
   "mimetype": "text/x-python",
   "name": "python",
   "nbconvert_exporter": "python",
   "pygments_lexer": "ipython3",
   "version": "3.6.0"
  }
 },
 "nbformat": 4,
 "nbformat_minor": 2
}
