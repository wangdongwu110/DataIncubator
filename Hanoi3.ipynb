{
 "cells": [
  {
   "cell_type": "code",
   "execution_count": 1,
   "metadata": {
    "collapsed": true
   },
   "outputs": [],
   "source": [
    "import numpy as np\n",
    "import copy\n",
    "from scipy.sparse import csr_matrix"
   ]
  },
  {
   "cell_type": "code",
   "execution_count": 2,
   "metadata": {
    "collapsed": true
   },
   "outputs": [],
   "source": [
    "def isvalidmove(s, istart, iend):\n",
    "    if len(s[istart]) == 0: return False\n",
    "    if len(s[iend]) == 0: return True\n",
    "    if s[istart][-1]<s[iend][-1]: \n",
    "        return True\n",
    "    else:\n",
    "        return False"
   ]
  },
  {
   "cell_type": "code",
   "execution_count": 3,
   "metadata": {
    "collapsed": false
   },
   "outputs": [],
   "source": [
    "def generateHanoi3status_old(n):\n",
    "    res = {}\n",
    "    #res[0] = [[],[],[3,2,1]]\n",
    "    res[0] = [[3,2,1],[],[]]\n",
    "    for i in range(1,n):\n",
    "        for start, end in [(0,1), (1,0), (1,2), (2,1)]:\n",
    "            if isvalidmove(res[i-1], start, end):\n",
    "                temp = copy.deepcopy(res[i-1])\n",
    "                temp[end].append(temp[start].pop()) \n",
    "                if temp not in res.values():\n",
    "                    res[i] = temp\n",
    "                    continue\n",
    "    return res"
   ]
  },
  {
   "cell_type": "code",
   "execution_count": 4,
   "metadata": {
    "collapsed": true
   },
   "outputs": [],
   "source": [
    "def generateHanoi3status(n):\n",
    "    res = {}\n",
    "    valid_move = {i: [] for i in range(n)}\n",
    "    res[0] = ([3,2,1],[],[])\n",
    "    i = 1\n",
    "    layer = [0]\n",
    "    while i<n and len(layer) != 0:\n",
    "        next_layer = []\n",
    "        for curr_idx in layer:\n",
    "            curr_status = res[curr_idx]\n",
    "            for start, end in [(0,1),(1,0),(1,2),(2,1)]:\n",
    "                if isvalidmove(curr_status, start, end):\n",
    "                    temp = copy.deepcopy(curr_status)\n",
    "                    temp[end].append(temp[start].pop()) \n",
    "                    if temp not in res.values():\n",
    "                        res[i] = temp\n",
    "                        next_layer.append(i)\n",
    "                        valid_move[curr_idx].append(i)\n",
    "                        valid_move[i].append(curr_idx)\n",
    "                        i += 1\n",
    "        layer = next_layer\n",
    "    return [res, valid_move]"
   ]
  },
  {
   "cell_type": "code",
   "execution_count": 5,
   "metadata": {
    "collapsed": true
   },
   "outputs": [],
   "source": [
    "def computecenterHanoi3(s):\n",
    "    weightedsum = 0.0\n",
    "    for i in range(3):\n",
    "        weightedsum += sum(s[i]) * i\n",
    "    return weightedsum / 6.0"
   ]
  },
  {
   "cell_type": "code",
   "execution_count": 6,
   "metadata": {
    "collapsed": false
   },
   "outputs": [],
   "source": [
    "def computeprobHanoi3(n,T,valid_move):\n",
    "    i, j, v = [], [], []\n",
    "    for ii in range(n):\n",
    "        for jj in valid_move[ii]:\n",
    "            i.append(jj)\n",
    "            j.append(ii)\n",
    "            v.append(1.0/float(len(valid_move[ii])))\n",
    "    i, j, v = np.array(i), np.array(j), np.array(v)\n",
    "#    i = np.concatenate((np.arange(1,n),np.arange(0,n-1)), axis=0)\n",
    "#    j = np.concatenate((np.arange(0,n-1),np.arange(1,n)), axis=0)\n",
    "#    v = np.concatenate((np.array([1.0]),[0.5]*(2*n-4),np.array([1.0])), axis=0)\n",
    "    A = csr_matrix((v,(i,j)),shape=(n,n))\n",
    "    #res = np.concatenate((np.array([1.0]),[0]*(n-1)), axis=0)\n",
    "    res = csr_matrix(([1],([0],[0])),shape=(n,1))\n",
    "    for k in range(T):\n",
    "        res = A * res\n",
    "    return res"
   ]
  },
  {
   "cell_type": "code",
   "execution_count": 7,
   "metadata": {
    "collapsed": true
   },
   "outputs": [],
   "source": [
    "def computeprobHanoi3_old(n,T):\n",
    "    i = np.concatenate((np.arange(1,n),np.arange(0,n-1)), axis=0)\n",
    "    j = np.concatenate((np.arange(0,n-1),np.arange(1,n)), axis=0)\n",
    "    v = np.concatenate((np.array([1.0]),[0.5]*(2*n-4),np.array([1.0])), axis=0)\n",
    "    A = csr_matrix((v,(i,j)),shape=(n,n))\n",
    "    #res = np.concatenate((np.array([1.0]),[0]*(n-1)), axis=0)\n",
    "    res = csr_matrix(([1],([0],[0])),shape=(n,1))\n",
    "    for k in range(T):\n",
    "        res = A * res\n",
    "    return res"
   ]
  },
  {
   "cell_type": "code",
   "execution_count": 10,
   "metadata": {
    "collapsed": false
   },
   "outputs": [
    {
     "name": "stdout",
     "output_type": "stream",
     "text": [
      "0.4094034831\n",
      "0.0806662403\n"
     ]
    }
   ],
   "source": [
    "# Main　Hanoi3\n",
    "n = 27\n",
    "T = 16\n",
    "status, valid_move = generateHanoi3status(n)\n",
    "#status = generateHanoi3status_old(n)\n",
    "center = [[computecenterHanoi3(status[i]) for i in range(n)]]\n",
    "#p = computeprobHanoi3_old(n,T).todense()\n",
    "p = computeprobHanoi3(n,T,valid_move).todense()\n",
    "mean = np.dot(center, p)\n",
    "variance = np.dot(np.square(center-mean), p)\n",
    "print(\"%.10f\" % mean)\n",
    "print(\"%.10f\" % variance)\n",
    "#for i in range(n):\n",
    "#    print(i, status[i], center[i])"
   ]
  },
  {
   "cell_type": "code",
   "execution_count": 9,
   "metadata": {
    "collapsed": false
   },
   "outputs": [],
   "source": [
    "#print(p)"
   ]
  }
 ],
 "metadata": {
  "kernelspec": {
   "display_name": "Python 3",
   "language": "python",
   "name": "python3"
  },
  "language_info": {
   "codemirror_mode": {
    "name": "ipython",
    "version": 3
   },
   "file_extension": ".py",
   "mimetype": "text/x-python",
   "name": "python",
   "nbconvert_exporter": "python",
   "pygments_lexer": "ipython3",
   "version": "3.6.0"
  }
 },
 "nbformat": 4,
 "nbformat_minor": 2
}
